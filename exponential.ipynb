{
 "cells": [
  {
   "metadata": {
    "ExecuteTime": {
     "end_time": "2024-08-17T09:29:43.619801Z",
     "start_time": "2024-08-17T09:29:43.602151Z"
    }
   },
   "cell_type": "code",
   "source": "import math",
   "id": "812365d57178e179",
   "outputs": [],
   "execution_count": 1
  },
  {
   "cell_type": "code",
   "id": "initial_id",
   "metadata": {
    "collapsed": true,
    "ExecuteTime": {
     "end_time": "2024-08-17T09:37:03.224171Z",
     "start_time": "2024-08-17T09:37:03.215831Z"
    }
   },
   "source": [
    "def mac_expo(x, n_terms):\n",
    "    result = 0\n",
    "    for n in range(n_terms):\n",
    "        result += x ** n / math.factorial(n)\n",
    "    return result"
   ],
   "outputs": [],
   "execution_count": 28
  },
  {
   "metadata": {
    "ExecuteTime": {
     "end_time": "2024-08-17T09:39:14.559440Z",
     "start_time": "2024-08-17T09:39:14.549586Z"
    }
   },
   "cell_type": "code",
   "source": "mac_expo(1.2, 11)",
   "id": "b4341757955dd0e1",
   "outputs": [
    {
     "data": {
      "text/plain": [
       "3.3201167161051424"
      ]
     },
     "execution_count": 32,
     "metadata": {},
     "output_type": "execute_result"
    }
   ],
   "execution_count": 32
  }
 ],
 "metadata": {
  "kernelspec": {
   "display_name": "Python 3",
   "language": "python",
   "name": "python3"
  },
  "language_info": {
   "codemirror_mode": {
    "name": "ipython",
    "version": 2
   },
   "file_extension": ".py",
   "mimetype": "text/x-python",
   "name": "python",
   "nbconvert_exporter": "python",
   "pygments_lexer": "ipython2",
   "version": "2.7.6"
  }
 },
 "nbformat": 4,
 "nbformat_minor": 5
}
