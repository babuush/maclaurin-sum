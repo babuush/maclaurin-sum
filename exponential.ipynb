{
 "cells": [
  {
   "metadata": {
    "ExecuteTime": {
     "end_time": "2024-08-17T10:49:33.225280Z",
     "start_time": "2024-08-17T10:49:27.328776Z"
    }
   },
   "cell_type": "code",
   "source": [
    "import math\n",
    "import pandas"
   ],
   "id": "812365d57178e179",
   "outputs": [],
   "execution_count": 3
  },
  {
   "metadata": {
    "ExecuteTime": {
     "end_time": "2024-08-17T10:55:14.372241Z",
     "start_time": "2024-08-17T10:55:14.361676Z"
    }
   },
   "cell_type": "code",
   "source": [
    "def mac_expo_error(x):\n",
    "    # Initialize data with the first term\n",
    "    data = [[1, 1.0, \"N/A\", \"N/A\"]]\n",
    "    present_value = 1.0\n",
    "    previous_value = 1.0\n",
    "    n = 1\n",
    "\n",
    "    while True:\n",
    "        term = x ** n / math.factorial(n)  # Compute the nth term\n",
    "        present_value += term\n",
    "\n",
    "        # Calculate errors\n",
    "        error = abs(present_value - previous_value)\n",
    "        relative_error = (error / present_value) * 100\n",
    "\n",
    "        # Round to 4 decimal places (half to even)\n",
    "        rounded_present_value = round(present_value, 4)\n",
    "        rounded_error = round(error, 4)\n",
    "        rounded_relative_error = round(relative_error, 4)\n",
    "\n",
    "        # Append the data for the current term\n",
    "        data.append([n + 1, rounded_present_value, rounded_error, rounded_relative_error])\n",
    "\n",
    "        # Check if the stopping criterion is met\n",
    "        if rounded_error < 0.01:\n",
    "            break\n",
    "\n",
    "        # Update the previous value and increment the term counter\n",
    "        previous_value = present_value\n",
    "        n += 1\n",
    "\n",
    "    return data"
   ],
   "id": "589d3f02cac4af0b",
   "outputs": [],
   "execution_count": 9
  },
  {
   "metadata": {
    "ExecuteTime": {
     "end_time": "2024-08-17T10:55:16.415445Z",
     "start_time": "2024-08-17T10:55:16.410738Z"
    }
   },
   "cell_type": "code",
   "source": "mac_expo_error(1.2)",
   "id": "7dd8cdd1701d4d03",
   "outputs": [
    {
     "data": {
      "text/plain": [
       "[[1, 1.0, 'N/A', 'N/A'],\n",
       " [2, 2.2, 1.2, 54.5455],\n",
       " [3, 2.92, 0.72, 24.6575],\n",
       " [4, 3.208, 0.288, 8.9776],\n",
       " [5, 3.2944, 0.0864, 2.6226],\n",
       " [6, 3.3151, 0.0207, 0.6255],\n",
       " [7, 3.3193, 0.0041, 0.1249]]"
      ]
     },
     "execution_count": 10,
     "metadata": {},
     "output_type": "execute_result"
    }
   ],
   "execution_count": 10
  }
 ],
 "metadata": {
  "kernelspec": {
   "display_name": "Python 3",
   "language": "python",
   "name": "python3"
  },
  "language_info": {
   "codemirror_mode": {
    "name": "ipython",
    "version": 2
   },
   "file_extension": ".py",
   "mimetype": "text/x-python",
   "name": "python",
   "nbconvert_exporter": "python",
   "pygments_lexer": "ipython2",
   "version": "2.7.6"
  }
 },
 "nbformat": 4,
 "nbformat_minor": 5
}
