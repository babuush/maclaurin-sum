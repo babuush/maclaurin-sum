{
 "cells": [
  {
   "metadata": {
    "ExecuteTime": {
     "end_time": "2024-08-17T10:59:29.089014Z",
     "start_time": "2024-08-17T10:59:29.081220Z"
    }
   },
   "cell_type": "code",
   "source": [
    "import math\n",
    "import pandas as pd"
   ],
   "id": "812365d57178e179",
   "outputs": [],
   "execution_count": 11
  },
  {
   "metadata": {
    "ExecuteTime": {
     "end_time": "2024-08-17T11:12:18.590464Z",
     "start_time": "2024-08-17T11:12:18.584943Z"
    }
   },
   "cell_type": "code",
   "source": [
    "def mac_expo_error(x, error_goal):\n",
    "    # Initialize data with the first term\n",
    "    data = [[1, 1.0, \"N/A\", \"N/A\"]]\n",
    "    present_approx = 1.0\n",
    "    previous_approx = 1.0\n",
    "    n = 1\n",
    "\n",
    "    while True:\n",
    "        term = x ** n / math.factorial(n)  # Compute the nth term\n",
    "        present_approx += term\n",
    "\n",
    "        # Calculate errors\n",
    "        error = abs(present_approx - previous_approx)\n",
    "        relative_error = (error / present_approx) * 100\n",
    "\n",
    "        # Round to 4 decimal places (half to even)\n",
    "        rounded_present_approx = round(present_approx, 4)\n",
    "        rounded_error = round(error, 4)\n",
    "        rounded_relative_error = round(relative_error, 4)\n",
    "\n",
    "        # Append the data for the current term\n",
    "        data.append([n + 1, rounded_present_approx, rounded_error, rounded_relative_error])\n",
    "\n",
    "        # Check if the stopping criterion is met\n",
    "        if rounded_error < error_goal:\n",
    "            break\n",
    "\n",
    "        # Update the previous value and increment the term counter\n",
    "        previous_approx = present_approx\n",
    "        n += 1\n",
    "\n",
    "    return data"
   ],
   "id": "589d3f02cac4af0b",
   "outputs": [],
   "execution_count": 16
  },
  {
   "metadata": {
    "ExecuteTime": {
     "end_time": "2024-08-17T11:12:20.607833Z",
     "start_time": "2024-08-17T11:12:20.601816Z"
    }
   },
   "cell_type": "code",
   "source": [
    "# Define column names\n",
    "columns = [\n",
    "    \"n\",  # Number of terms\n",
    "    \"e^1.2\",  # Approximation of e^1.2\n",
    "    \"Ea\",  # Absolute Error\n",
    "    \"Ea%\"  # Relative Error (%)\n",
    "]\n",
    "\n",
    "# Create a DataFrame from the extracted data with the specified columns\n",
    "df = pd.DataFrame(mac_expo_error(1.2, 0.01), columns=columns)"
   ],
   "id": "8dba1807650d8654",
   "outputs": [],
   "execution_count": 17
  },
  {
   "metadata": {
    "ExecuteTime": {
     "end_time": "2024-08-17T10:55:16.415445Z",
     "start_time": "2024-08-17T10:55:16.410738Z"
    }
   },
   "cell_type": "code",
   "source": "df.to_csv(\"exponential.csv\", index=False)",
   "id": "7dd8cdd1701d4d03",
   "outputs": [
    {
     "data": {
      "text/plain": [
       "[[1, 1.0, 'N/A', 'N/A'],\n",
       " [2, 2.2, 1.2, 54.5455],\n",
       " [3, 2.92, 0.72, 24.6575],\n",
       " [4, 3.208, 0.288, 8.9776],\n",
       " [5, 3.2944, 0.0864, 2.6226],\n",
       " [6, 3.3151, 0.0207, 0.6255],\n",
       " [7, 3.3193, 0.0041, 0.1249]]"
      ]
     },
     "execution_count": 10,
     "metadata": {},
     "output_type": "execute_result"
    }
   ],
   "execution_count": 10
  }
 ],
 "metadata": {
  "kernelspec": {
   "display_name": "Python 3",
   "language": "python",
   "name": "python3"
  },
  "language_info": {
   "codemirror_mode": {
    "name": "ipython",
    "version": 2
   },
   "file_extension": ".py",
   "mimetype": "text/x-python",
   "name": "python",
   "nbconvert_exporter": "python",
   "pygments_lexer": "ipython2",
   "version": "2.7.6"
  }
 },
 "nbformat": 4,
 "nbformat_minor": 5
}
