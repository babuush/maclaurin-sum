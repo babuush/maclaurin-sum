{
 "cells": [
  {
   "metadata": {
    "ExecuteTime": {
     "end_time": "2024-08-17T10:06:36.937902Z",
     "start_time": "2024-08-17T10:06:36.922447Z"
    }
   },
   "cell_type": "code",
   "source": [
    "import math\n",
    "import pandas\n"
   ],
   "id": "812365d57178e179",
   "outputs": [],
   "execution_count": 34
  },
  {
   "metadata": {
    "ExecuteTime": {
     "end_time": "2024-08-17T10:38:38.222697Z",
     "start_time": "2024-08-17T10:38:38.219063Z"
    }
   },
   "cell_type": "code",
   "source": [
    "def mac_expo_error(x, n_terms):\n",
    "    # Initialize data with the first term\n",
    "    data = [[1, 1.0, \"N/A\", \"N/A\"]]\n",
    "    present_value = 1.0\n",
    "    previous_value = 1.0\n",
    "    \n",
    "    for n in range(1, n_terms):\n",
    "        term = x ** n / math.factorial(n)  \n",
    "        present_value += term\n",
    "        \n",
    "        # Calculate errors\n",
    "        error = abs(present_value - previous_value)\n",
    "        relative_error = (error / present_value) * 100\n",
    "        \n",
    "        # Append the data for the current term\n",
    "        data.append([n + 1, present_value, error, relative_error])\n",
    "        \n",
    "        # Update the previous value\n",
    "        previous_value = present_value\n",
    "    \n",
    "    return data"
   ],
   "id": "589d3f02cac4af0b",
   "outputs": [],
   "execution_count": 108
  },
  {
   "metadata": {
    "ExecuteTime": {
     "end_time": "2024-08-17T10:38:39.543295Z",
     "start_time": "2024-08-17T10:38:39.539695Z"
    }
   },
   "cell_type": "code",
   "source": "mac_expo_error(1.2, 5)",
   "id": "7dd8cdd1701d4d03",
   "outputs": [
    {
     "data": {
      "text/plain": [
       "[[1, 1.0, 'N/A', 'N/A'],\n",
       " [2, 2.2, 1.2000000000000002, 54.545454545454554],\n",
       " [3, 2.92, 0.7199999999999998, 24.657534246575334],\n",
       " [4, 3.2079999999999997, 0.2879999999999998, 8.97755610972568],\n",
       " [5, 3.2943999999999996, 0.08639999999999981, 2.6226323457989262]]"
      ]
     },
     "execution_count": 109,
     "metadata": {},
     "output_type": "execute_result"
    }
   ],
   "execution_count": 109
  }
 ],
 "metadata": {
  "kernelspec": {
   "display_name": "Python 3",
   "language": "python",
   "name": "python3"
  },
  "language_info": {
   "codemirror_mode": {
    "name": "ipython",
    "version": 2
   },
   "file_extension": ".py",
   "mimetype": "text/x-python",
   "name": "python",
   "nbconvert_exporter": "python",
   "pygments_lexer": "ipython2",
   "version": "2.7.6"
  }
 },
 "nbformat": 4,
 "nbformat_minor": 5
}
